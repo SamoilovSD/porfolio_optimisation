{
 "cells": [
  {
   "cell_type": "code",
   "execution_count": 1,
   "id": "7ac7ff4a-2835-4a49-b514-446259b2ed1f",
   "metadata": {},
   "outputs": [],
   "source": [
    "import numpy as np\n",
    "import math\n",
    "import matplotlib.pyplot as plt\n",
    "import matplotlib\n",
    "import pandas as pd\n",
    "\n",
    "rc = {\"font.family\" : \"serif\", \n",
    "      \"mathtext.fontset\" : \"stix\"}\n",
    "plt.rcParams.update(rc)\n",
    "plt.rcParams[\"font.serif\"] = [\"Times New Roman\"] + plt.rcParams[\"font.serif\"]\n",
    "matplotlib.rcParams.update({'font.size': 14})"
   ]
  },
  {
   "cell_type": "code",
   "execution_count": 26,
   "id": "ae933512-5f94-4599-9d1d-cc6733207f5f",
   "metadata": {},
   "outputs": [
    {
     "data": {
      "text/html": [
       "<div>\n",
       "<style scoped>\n",
       "    .dataframe tbody tr th:only-of-type {\n",
       "        vertical-align: middle;\n",
       "    }\n",
       "\n",
       "    .dataframe tbody tr th {\n",
       "        vertical-align: top;\n",
       "    }\n",
       "\n",
       "    .dataframe thead th {\n",
       "        text-align: right;\n",
       "    }\n",
       "</style>\n",
       "<table border=\"1\" class=\"dataframe\">\n",
       "  <thead>\n",
       "    <tr style=\"text-align: right;\">\n",
       "      <th></th>\n",
       "      <th>ticket_name</th>\n",
       "      <th>number_of_stocks</th>\n",
       "      <th>price_for_one_stock</th>\n",
       "      <th>total_price</th>\n",
       "      <th>share_in_portfolio</th>\n",
       "      <th>share_in_index</th>\n",
       "      <th>diff_in_shares</th>\n",
       "    </tr>\n",
       "  </thead>\n",
       "  <tbody>\n",
       "    <tr>\n",
       "      <th>0</th>\n",
       "      <td>NVTK</td>\n",
       "      <td>23</td>\n",
       "      <td>1091.80</td>\n",
       "      <td>25.1114</td>\n",
       "      <td>0.034817</td>\n",
       "      <td>0.0348</td>\n",
       "      <td>0.000017</td>\n",
       "    </tr>\n",
       "    <tr>\n",
       "      <th>1</th>\n",
       "      <td>NLMK</td>\n",
       "      <td>70</td>\n",
       "      <td>176.92</td>\n",
       "      <td>12.3844</td>\n",
       "      <td>0.017171</td>\n",
       "      <td>0.0156</td>\n",
       "      <td>0.001571</td>\n",
       "    </tr>\n",
       "    <tr>\n",
       "      <th>2</th>\n",
       "      <td>AFKS</td>\n",
       "      <td>3</td>\n",
       "      <td>2375.00</td>\n",
       "      <td>7.1250</td>\n",
       "      <td>0.009879</td>\n",
       "      <td>0.0081</td>\n",
       "      <td>0.001779</td>\n",
       "    </tr>\n",
       "    <tr>\n",
       "      <th>3</th>\n",
       "      <td>RUAL</td>\n",
       "      <td>29</td>\n",
       "      <td>422.90</td>\n",
       "      <td>12.2641</td>\n",
       "      <td>0.017004</td>\n",
       "      <td>0.0141</td>\n",
       "      <td>0.002904</td>\n",
       "    </tr>\n",
       "    <tr>\n",
       "      <th>4</th>\n",
       "      <td>TCSG</td>\n",
       "      <td>9</td>\n",
       "      <td>2968.50</td>\n",
       "      <td>26.7165</td>\n",
       "      <td>0.037042</td>\n",
       "      <td>0.0340</td>\n",
       "      <td>0.003042</td>\n",
       "    </tr>\n",
       "  </tbody>\n",
       "</table>\n",
       "</div>"
      ],
      "text/plain": [
       "  ticket_name  number_of_stocks  price_for_one_stock  total_price  \\\n",
       "0        NVTK                23              1091.80      25.1114   \n",
       "1        NLMK                70               176.92      12.3844   \n",
       "2        AFKS                 3              2375.00       7.1250   \n",
       "3        RUAL                29               422.90      12.2641   \n",
       "4        TCSG                 9              2968.50      26.7165   \n",
       "\n",
       "   share_in_portfolio  share_in_index  diff_in_shares  \n",
       "0            0.034817          0.0348        0.000017  \n",
       "1            0.017171          0.0156        0.001571  \n",
       "2            0.009879          0.0081        0.001779  \n",
       "3            0.017004          0.0141        0.002904  \n",
       "4            0.037042          0.0340        0.003042  "
      ]
     },
     "execution_count": 26,
     "metadata": {},
     "output_type": "execute_result"
    }
   ],
   "source": [
    "df = pd.read_excel(\"D:for_optimisation.xlsx\")\n",
    "df.head()"
   ]
  },
  {
   "cell_type": "code",
   "execution_count": 38,
   "id": "5ed81ffd-9994-4eb3-82d8-e99af0b60223",
   "metadata": {},
   "outputs": [],
   "source": [
    "price_for_stock = df.price_for_one_stock\n",
    "tikets = df.ticket_name\n",
    "share_in_imoex = df.share_in_index"
   ]
  },
  {
   "cell_type": "code",
   "execution_count": 28,
   "id": "6bdba911-2a81-423e-8e4d-dc7316ad1110",
   "metadata": {},
   "outputs": [
    {
     "data": {
      "text/plain": [
       "(2, 70)"
      ]
     },
     "execution_count": 28,
     "metadata": {},
     "output_type": "execute_result"
    }
   ],
   "source": [
    "df.number_of_stocks.min(), df.number_of_stocks.max()"
   ]
  },
  {
   "cell_type": "code",
   "execution_count": 29,
   "id": "85309580-8501-4d3c-9692-f4066d48505c",
   "metadata": {},
   "outputs": [
    {
     "data": {
      "text/plain": [
       "(32, 7)"
      ]
     },
     "execution_count": 29,
     "metadata": {},
     "output_type": "execute_result"
    }
   ],
   "source": [
    "df.shape"
   ]
  },
  {
   "cell_type": "code",
   "execution_count": 32,
   "id": "a0a55c48-aa3d-46fd-b842-95358fef2b66",
   "metadata": {},
   "outputs": [
    {
     "data": {
      "text/plain": [
       "array([1.  , 1.2 , 1.56])"
      ]
     },
     "execution_count": 32,
     "metadata": {},
     "output_type": "execute_result"
    }
   ],
   "source": [
    "a = np.array([1, 1.2, 1.56])\n",
    "a"
   ]
  },
  {
   "cell_type": "code",
   "execution_count": 117,
   "id": "3e4b75ab-b014-488c-a49d-3dee48958092",
   "metadata": {},
   "outputs": [],
   "source": [
    "def minimize_foo(x):\n",
    "    x = np.round(x, 0)\n",
    "    df_for_opt = pd.DataFrame({\n",
    "        'ticket_name':tikets,\n",
    "        'price_for_one_stock':price_for_stock,\n",
    "        'share_in_index':share_in_imoex,\n",
    "        'number_of_stocks':x\n",
    "    })\n",
    "    df_for_opt['total_price'] = df_for_opt.price_for_one_stock * df_for_opt.number_of_stocks\n",
    "    price_of_portfolio = df_for_opt['total_price'].sum()\n",
    "    df_for_opt['share_in_portfolio'] = df_for_opt['total_price']/price_of_portfolio\n",
    "    df_for_opt['diff_in_shares'] = np.abs(df_for_opt.share_in_index-df_for_opt['share_in_portfolio'])\n",
    "    crit = df_for_opt['diff_in_shares'].sum() + (price_of_portfolio-670_000)/670_000\n",
    "    return crit\n",
    "\n",
    "max_of_stocks = 300\n",
    "bounds = [(1,max_of_stocks),(1,max_of_stocks),(1,max_of_stocks),(1,max_of_stocks),\n",
    "         (1,max_of_stocks),(1,max_of_stocks),(1,max_of_stocks),(1,max_of_stocks),\n",
    "         (1,max_of_stocks),(1,max_of_stocks),(1,max_of_stocks),(1,max_of_stocks),\n",
    "         (1,max_of_stocks),(1,max_of_stocks),(1,max_of_stocks),(1,max_of_stocks),\n",
    "         (1,max_of_stocks),(1,max_of_stocks),(1,max_of_stocks),(1,max_of_stocks),\n",
    "         (1,max_of_stocks),(1,max_of_stocks),(1,max_of_stocks),(1,max_of_stocks),\n",
    "         (1,max_of_stocks),(1,max_of_stocks),(1,max_of_stocks),(1,max_of_stocks),\n",
    "         (1,max_of_stocks),(1,max_of_stocks),(1,max_of_stocks),(1,max_of_stocks)]"
   ]
  },
  {
   "cell_type": "code",
   "execution_count": 118,
   "id": "1f651a21-1bb0-4c28-b7ba-d582cde5bb48",
   "metadata": {},
   "outputs": [],
   "source": [
    "from scipy.optimize import differential_evolution"
   ]
  },
  {
   "cell_type": "code",
   "execution_count": null,
   "id": "c403fb89-2375-48ab-855f-0294514ea1b5",
   "metadata": {},
   "outputs": [],
   "source": [
    "result = differential_evolution(minimize_foo, bounds)"
   ]
  },
  {
   "cell_type": "code",
   "execution_count": null,
   "id": "1a79a51f-cb15-48bd-a1d7-b4fbe5190ae7",
   "metadata": {},
   "outputs": [],
   "source": [
    "result"
   ]
  },
  {
   "cell_type": "code",
   "execution_count": null,
   "id": "5b2583f6-8b44-4827-b69d-ce624a3b6a8a",
   "metadata": {},
   "outputs": [],
   "source": [
    "res_arr = np.round(result.x,0)\n",
    "res_arr"
   ]
  },
  {
   "cell_type": "code",
   "execution_count": null,
   "id": "00c1243b-c0ef-4c1f-a538-2620e1f7cbe6",
   "metadata": {},
   "outputs": [],
   "source": [
    "df_for_check = pd.DataFrame({\n",
    "        'ticket_name':tikets,\n",
    "        'price_for_one_stock':price_for_stock,\n",
    "        'share_in_index':share_in_imoex,\n",
    "        'number_of_stocks':res_arr\n",
    "    })"
   ]
  },
  {
   "cell_type": "code",
   "execution_count": null,
   "id": "dd6a8418-244e-49c4-b86d-41dbdeaf0019",
   "metadata": {},
   "outputs": [],
   "source": [
    "df_for_check['total_price'] = df_for_check.price_for_one_stock * df_for_check.number_of_stocks\n",
    "price_of_portfolio = df_for_check['total_price'].sum()\n",
    "df_for_check['share_in_portfolio'] = df_for_check['total_price']/price_of_portfolio\n",
    "df_for_check['diff_in_shares'] = np.abs(df_for_check.share_in_index-df_for_check['share_in_portfolio'])"
   ]
  },
  {
   "cell_type": "code",
   "execution_count": null,
   "id": "e64df46a-4e15-4c04-b19b-2d7e815076b0",
   "metadata": {},
   "outputs": [],
   "source": [
    "df_for_check"
   ]
  },
  {
   "cell_type": "code",
   "execution_count": null,
   "id": "febcda05-fcc6-4553-a8ff-fed5fc26359e",
   "metadata": {},
   "outputs": [],
   "source": [
    "df_for_check.total_price.sum()"
   ]
  },
  {
   "cell_type": "code",
   "execution_count": null,
   "id": "9b1d984c-ea54-42ce-b3c9-bf269ed8897a",
   "metadata": {},
   "outputs": [],
   "source": []
  }
 ],
 "metadata": {
  "kernelspec": {
   "display_name": "Python 3 (ipykernel)",
   "language": "python",
   "name": "python3"
  },
  "language_info": {
   "codemirror_mode": {
    "name": "ipython",
    "version": 3
   },
   "file_extension": ".py",
   "mimetype": "text/x-python",
   "name": "python",
   "nbconvert_exporter": "python",
   "pygments_lexer": "ipython3",
   "version": "3.11.6"
  }
 },
 "nbformat": 4,
 "nbformat_minor": 5
}
